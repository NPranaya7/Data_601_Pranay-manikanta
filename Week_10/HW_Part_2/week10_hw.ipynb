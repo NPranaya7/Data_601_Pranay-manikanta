{
 "cells": [
  {
   "cell_type": "markdown",
   "metadata": {},
   "source": [
    "# Week 10 Homework\n",
    "\n",
    "Extend the following class and name this class `ModuleLister`\n",
    "\n",
    "This will find all unique modules in your homework and labs."
   ]
  },
  {
   "cell_type": "code",
   "execution_count": 1,
   "metadata": {},
   "outputs": [],
   "source": [
    "### DON'T CHANGE THIS CELL\n",
    "import os\n",
    "\n",
    "class FileProcessor:\n",
    "    \n",
    "    def __init__(self, path, file_types=['.ipynb']):\n",
    "        self.files = self.find_all_files(path, file_types)\n",
    "        print(f'{len(self.files)} file(s) found...')\n",
    "\n",
    "    \n",
    "    def find_all_files(self, path, file_types):\n",
    "        paths = []\n",
    "        for root, dirs, files in os.walk(path):\n",
    "            for file in files:\n",
    "                if any([file.endswith(ft) for ft in file_types]):\n",
    "                    path = os.path.join(root, file)\n",
    "                    # print(path)\n",
    "                    paths.append(path)\n",
    "        return paths\n",
    "    \n",
    "    def read_file(self, file_path, encoding='utf8'):\n",
    "        with open(file_path,encoding=encoding) as f:\n",
    "            return f.read()\n",
    "    \n",
    "    def start(self):\n",
    "        \"\"\"\n",
    "        Entry point for the class\n",
    "        \"\"\"\n",
    "        for file in self.files:\n",
    "            self.process_file(file)\n",
    "        \n",
    "    def process_file(self, file_path):\n",
    "        \"\"\"\n",
    "        abstract method\n",
    "        \"\"\"\n",
    "        raise NotImplemented('process_file method not implemented')"
   ]
  },
  {
   "cell_type": "code",
   "execution_count": 2,
   "metadata": {},
   "outputs": [],
   "source": [
    "### your code starts here\n",
    "\n",
    "class ModuleLister(FileProcessor):\n",
    "    def process_file(self, file_path):\n",
    "            content = self.read_file(file_path)\n",
    "            print(\"\"\" \n",
    "            \"\"\")\n",
    "            print(file_path)\n",
    "            \n",
    "            if 'import' in content:\n",
    "                arr = []\n",
    "                arr = content.split('\\n')\n",
    "                for i in range(len(arr)):\n",
    "                    if \"import\" in arr[i]:\n",
    "                        a = arr[i]\n",
    "                        list_of_words = a.split(\" \")\n",
    "                        for i in range(len(list_of_words)):\n",
    "                            if (list_of_words[i] == '\"import'):\n",
    "                                \n",
    "                                print('---->',list_of_words[i+1])\n",
    "                    else:\n",
    "                        continue"
   ]
  },
  {
   "cell_type": "code",
   "execution_count": 3,
   "metadata": {},
   "outputs": [
    {
     "name": "stdout",
     "output_type": "stream",
     "text": [
      "19 file(s) found...\n"
     ]
    }
   ],
   "source": [
    "FileProcessor = ModuleLister(path='../Desktop\\Data_601_Pranay-manikanta') # change the path according to your path"
   ]
  },
  {
   "cell_type": "code",
   "execution_count": 4,
   "metadata": {
    "scrolled": false
   },
   "outputs": [
    {
     "name": "stdout",
     "output_type": "stream",
     "text": [
      " \n",
      "            \n",
      "../Desktop\\Data_601_Pranay-manikanta\\.ipynb_checkpoints\\week10_OOP-checkpoint.ipynb\n",
      "----> pandas\n",
      "----> numpy\n",
      "----> pandas\n",
      "----> os\\n\",\n",
      " \n",
      "            \n",
      "../Desktop\\Data_601_Pranay-manikanta\\Midterm\\Midterm project.ipynb\n",
      "----> pandas\n",
      "----> matplotlib.pyplot\n",
      "----> seaborn\n",
      "----> numpy\n",
      " \n",
      "            \n",
      "../Desktop\\Data_601_Pranay-manikanta\\Week_01\\HW-01.ipynb\n",
      "----> os\\n\",\n",
      " \n",
      "            \n",
      "../Desktop\\Data_601_Pranay-manikanta\\Week_02\\Data_601 Homework_02.ipynb\n",
      "----> random\n",
      "----> matplotlib.pyplot\n",
      "----> pandas\n",
      " \n",
      "            \n",
      "../Desktop\\Data_601_Pranay-manikanta\\Week_02\\lab2.ipynb\n",
      "----> pandas\n",
      "----> matplotlib.pyplot\n",
      " \n",
      "            \n",
      "../Desktop\\Data_601_Pranay-manikanta\\Week_03\\601 hw3.ipynb\n",
      "----> random\\n\",\n",
      "----> numpy\n",
      "----> random\\n\",\n",
      "----> re\\n\",\n",
      " \n",
      "            \n",
      "../Desktop\\Data_601_Pranay-manikanta\\Week_03\\lab3.ipynb\n",
      "----> pandas\n",
      " \n",
      "            \n",
      "../Desktop\\Data_601_Pranay-manikanta\\Week_04\\Assignment_04.ipynb\n",
      "----> pandas\n",
      "----> matplotlib.pyplot\n",
      "----> matplotlib.pyplot\n",
      " \n",
      "            \n",
      "../Desktop\\Data_601_Pranay-manikanta\\Week_04\\Lab_04.ipynb\n",
      "----> pandas\n",
      " \n",
      "            \n",
      "../Desktop\\Data_601_Pranay-manikanta\\Week_05\\Assignment-05.ipynb\n",
      "----> pandas\n",
      "----> numpy\n",
      "----> seaborn\n",
      "----> matplotlib.pyplot\n",
      " \n",
      "            \n",
      "../Desktop\\Data_601_Pranay-manikanta\\Week_05\\week5_lab.ipynb\n",
      "----> seaborn\n",
      "----> pandas\n",
      " \n",
      "            \n",
      "../Desktop\\Data_601_Pranay-manikanta\\Week_06\\hw-06.ipynb\n",
      "----> matplotlib.pyplot\n",
      " \n",
      "            \n",
      "../Desktop\\Data_601_Pranay-manikanta\\Week_06\\week06_lab.ipynb\n",
      "----> pandas\n",
      " \n",
      "            \n",
      "../Desktop\\Data_601_Pranay-manikanta\\Week_07\\hw-07.ipynb\n",
      "----> pandas\n",
      "----> random\n",
      "----> matplotlib.pyplot\n",
      "----> random\n",
      "----> matplotlib.pyplot\n",
      " \n",
      "            \n",
      "../Desktop\\Data_601_Pranay-manikanta\\Week_08\\hw-08 (1).ipynb\n",
      "----> pandas\n",
      "----> \n",
      "----> numpy\n",
      " \n",
      "            \n",
      "../Desktop\\Data_601_Pranay-manikanta\\Week_08\\Lab\\week8_lab.ipynb\n",
      "----> pandas\n",
      " \n",
      "            \n",
      "../Desktop\\Data_601_Pranay-manikanta\\Week_09\\Assignment(3)_09.ipynb\n",
      "----> pandas\n",
      "----> matplotlib\\n\",\n",
      "----> matplotlib.pyplot\n",
      " \n",
      "            \n",
      "../Desktop\\Data_601_Pranay-manikanta\\Week_10\\HW_Part_1\\HW_10_part_1.ipynb\n",
      "----> pandas\n",
      "----> matplotlib\\n\",\n",
      "----> matplotlib.pyplot\n",
      " \n",
      "            \n",
      "../Desktop\\Data_601_Pranay-manikanta\\Week_10\\Lab\\week10-lab.ipynb\n"
     ]
    }
   ],
   "source": [
    "FileProcessor.start()"
   ]
  },
  {
   "cell_type": "code",
   "execution_count": null,
   "metadata": {},
   "outputs": [],
   "source": []
  }
 ],
 "metadata": {
  "kernelspec": {
   "display_name": "Python 3 (ipykernel)",
   "language": "python",
   "name": "python3"
  },
  "language_info": {
   "codemirror_mode": {
    "name": "ipython",
    "version": 3
   },
   "file_extension": ".py",
   "mimetype": "text/x-python",
   "name": "python",
   "nbconvert_exporter": "python",
   "pygments_lexer": "ipython3",
   "version": "3.9.7"
  },
  "toc": {
   "base_numbering": 1,
   "nav_menu": {},
   "number_sections": true,
   "sideBar": true,
   "skip_h1_title": false,
   "title_cell": "Table of Contents",
   "title_sidebar": "Contents",
   "toc_cell": false,
   "toc_position": {},
   "toc_section_display": true,
   "toc_window_display": false
  },
  "varInspector": {
   "cols": {
    "lenName": 16,
    "lenType": 16,
    "lenVar": 40
   },
   "kernels_config": {
    "python": {
     "delete_cmd_postfix": "",
     "delete_cmd_prefix": "del ",
     "library": "var_list.py",
     "varRefreshCmd": "print(var_dic_list())"
    },
    "r": {
     "delete_cmd_postfix": ") ",
     "delete_cmd_prefix": "rm(",
     "library": "var_list.r",
     "varRefreshCmd": "cat(var_dic_list()) "
    }
   },
   "types_to_exclude": [
    "module",
    "function",
    "builtin_function_or_method",
    "instance",
    "_Feature"
   ],
   "window_display": false
  }
 },
 "nbformat": 4,
 "nbformat_minor": 2
}
