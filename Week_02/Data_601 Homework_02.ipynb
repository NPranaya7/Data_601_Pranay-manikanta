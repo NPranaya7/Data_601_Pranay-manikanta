{
 "cells": [
  {
   "cell_type": "markdown",
   "id": "425024c2",
   "metadata": {},
   "source": [
    "## Homework 2\n",
    "\n",
    "Please complete the functions below. These functions are for to simulate a fair and a biased die. \n",
    "\n",
    "The biased die has probabilities {0.20, 0.10, 0.15, 0.15, 0.15, 0.25}.\n",
    "\n",
    "Create 2 visualizations that shows outcomes of multiple rolls of a fair die and biased die. \n",
    "* Visualization for fair die\n",
    "* Visualization for biased die\n",
    "\n",
    "Repeat the process programatically and take the mean to create a new list. This list will be used to compare means of biased & unbiased dice. \n",
    "* Create a historgram showing means of biased & unbiased die\n",
    "\n",
    "* Use subcharts\n",
    "\n",
    "* All visualizations must have appropriate titles.\n",
    "* There are 3 visualization and expected format is \n",
    "```\n",
    " [V1] [V2]\n",
    " [   V3  ]\n",
    " ```"
   ]
  },
  {
   "cell_type": "markdown",
   "id": "d6d8f98e",
   "metadata": {},
   "source": [
    "## Visualization for Fair Die"
   ]
  },
  {
   "cell_type": "code",
   "execution_count": 340,
   "id": "7078d18a",
   "metadata": {},
   "outputs": [],
   "source": [
    "import random \n",
    "import matplotlib.pyplot as plt\n",
    "import pandas as pd\n",
    "\n",
    "trial_count = 500\n",
    "\n",
    "def fair_die_simulation(trials):\n",
    "    \"\"\"\n",
    "    returns an array of randomly numbers between 1 and 6. \n",
    "    \"\"\"\n",
    "    options = [1,2,3,4,5,6]\n",
    "    simulations = [random.choice(options) for _ in range(trials)]\n",
    "    return simulations\n",
    "\n",
    "fair_die = fair_die_simulation(trial_count)"
   ]
  },
  {
   "cell_type": "code",
   "execution_count": 341,
   "id": "aeec8721",
   "metadata": {},
   "outputs": [],
   "source": [
    "a=sum([a == 1 for a in fair_die ])\n",
    "b=sum([b == 2 for b in fair_die ])\n",
    "c=sum([c == 3 for c in fair_die ])\n",
    "d=sum([d == 4 for d in fair_die ])\n",
    "e=sum([e == 5 for e in fair_die ])\n",
    "f=sum([f == 6 for f in fair_die ])"
   ]
  },
  {
   "cell_type": "code",
   "execution_count": 342,
   "id": "4010af43",
   "metadata": {
    "scrolled": true
   },
   "outputs": [
    {
     "data": {
      "text/html": [
       "<div>\n",
       "<style scoped>\n",
       "    .dataframe tbody tr th:only-of-type {\n",
       "        vertical-align: middle;\n",
       "    }\n",
       "\n",
       "    .dataframe tbody tr th {\n",
       "        vertical-align: top;\n",
       "    }\n",
       "\n",
       "    .dataframe thead th {\n",
       "        text-align: right;\n",
       "    }\n",
       "</style>\n",
       "<table border=\"1\" class=\"dataframe\">\n",
       "  <thead>\n",
       "    <tr style=\"text-align: right;\">\n",
       "      <th></th>\n",
       "      <th>1</th>\n",
       "      <th>2</th>\n",
       "      <th>3</th>\n",
       "      <th>4</th>\n",
       "      <th>5</th>\n",
       "      <th>6</th>\n",
       "    </tr>\n",
       "  </thead>\n",
       "  <tbody>\n",
       "    <tr>\n",
       "      <th>0</th>\n",
       "      <td>85</td>\n",
       "      <td>91</td>\n",
       "      <td>87</td>\n",
       "      <td>81</td>\n",
       "      <td>78</td>\n",
       "      <td>78</td>\n",
       "    </tr>\n",
       "  </tbody>\n",
       "</table>\n",
       "</div>"
      ],
      "text/plain": [
       "    1   2   3   4   5   6\n",
       "0  85  91  87  81  78  78"
      ]
     },
     "execution_count": 342,
     "metadata": {},
     "output_type": "execute_result"
    }
   ],
   "source": [
    "df = pd.DataFrame([{'1':a,'2':b,'3':c,'4':d,'5':e,'6':f}])\n",
    "df"
   ]
  },
  {
   "cell_type": "markdown",
   "id": "cdd8fb87",
   "metadata": {},
   "source": [
    "## Plot of Fair Die"
   ]
  },
  {
   "cell_type": "code",
   "execution_count": 372,
   "id": "f0801fad",
   "metadata": {},
   "outputs": [
    {
     "data": {
      "image/png": "[encoded data removed]",
      "text/plain": [
       "<Figure size 432x288 with 1 Axes>"
      ]
     },
     "metadata": {
      "needs_background": "light"
     },
     "output_type": "display_data"
    }
   ],
   "source": [
    "_=df.plot.bar() \n",
    "_=plt.xticks([])\n",
    "_=plt.xlabel('options')\n",
    "_=plt.ylabel('Frequency')\n",
    "_=plt.title('Fair Die Simulation')\n",
    "plt.savefig('Fair Die')"
   ]
  },
  {
   "cell_type": "markdown",
   "id": "12d10df9",
   "metadata": {},
   "source": [
    "## Visulation for Biased Die"
   ]
  },
  {
   "cell_type": "code",
   "execution_count": 365,
   "id": "5a02e11e",
   "metadata": {},
   "outputs": [],
   "source": [
    "def biased_die_simuations(trials, weights=[0.20, 0.10, 0.15, 0.15, 0.15, 0.25]):\n",
    "    \"\"\"\n",
    "    returns an array of randomly numbers between 1 and 6 with the probabilty of assosiated weight. \n",
    "    for instance: for weights: [0.25, 0.15, 0.15, 0.15, 0.15, 0.15]\n",
    "    1 has 0.25 change to be selected, 2 has 0.15 chance and so on...\n",
    "    \"\"\"\n",
    "    \n",
    "    options = [1,2,3,4,5,6]\n",
    "    bsimulations = [random.choices(options,weights)[0] for _ in range(trials)]\n",
    "    return bsimulations\n",
    "\n",
    "biased_die = biased_die_simuations(trial_count,)"
   ]
  },
  {
   "cell_type": "code",
   "execution_count": 366,
   "id": "d209b72c",
   "metadata": {},
   "outputs": [],
   "source": [
    "g=sum([g == 1 for g in biased_die ])\n",
    "h=sum([h == 2 for h in biased_die ])\n",
    "i=sum([i == 3 for i in biased_die ])\n",
    "j=sum([j == 4 for j in biased_die ])\n",
    "k=sum([k == 5 for k in biased_die ])\n",
    "l=sum([l == 6 for l in biased_die ])"
   ]
  },
  {
   "cell_type": "code",
   "execution_count": 367,
   "id": "639d8645",
   "metadata": {},
   "outputs": [
    {
     "data": {
      "text/html": [
       "<div>\n",
       "<style scoped>\n",
       "    .dataframe tbody tr th:only-of-type {\n",
       "        vertical-align: middle;\n",
       "    }\n",
       "\n",
       "    .dataframe tbody tr th {\n",
       "        vertical-align: top;\n",
       "    }\n",
       "\n",
       "    .dataframe thead th {\n",
       "        text-align: right;\n",
       "    }\n",
       "</style>\n",
       "<table border=\"1\" class=\"dataframe\">\n",
       "  <thead>\n",
       "    <tr style=\"text-align: right;\">\n",
       "      <th></th>\n",
       "      <th>1</th>\n",
       "      <th>2</th>\n",
       "      <th>3</th>\n",
       "      <th>4</th>\n",
       "      <th>5</th>\n",
       "      <th>6</th>\n",
       "    </tr>\n",
       "  </thead>\n",
       "  <tbody>\n",
       "    <tr>\n",
       "      <th>0</th>\n",
       "      <td>90</td>\n",
       "      <td>47</td>\n",
       "      <td>67</td>\n",
       "      <td>76</td>\n",
       "      <td>84</td>\n",
       "      <td>136</td>\n",
       "    </tr>\n",
       "  </tbody>\n",
       "</table>\n",
       "</div>"
      ],
      "text/plain": [
       "    1   2   3   4   5    6\n",
       "0  90  47  67  76  84  136"
      ]
     },
     "execution_count": 367,
     "metadata": {},
     "output_type": "execute_result"
    }
   ],
   "source": [
    "biased_df = pd.DataFrame([{'1':g,'2':h,'3':i,'4':j,'5':k,'6':l}])\n",
    "biased_df"
   ]
  },
  {
   "cell_type": "markdown",
   "id": "bff91e34",
   "metadata": {},
   "source": [
    "## Plot of Biased Die"
   ]
  },
  {
   "cell_type": "code",
   "execution_count": 373,
   "id": "1b6705b2",
   "metadata": {},
   "outputs": [
    {
     "data": {
      "image/png": "[encoded data removed]",
      "text/plain": [
       "<Figure size 432x288 with 1 Axes>"
      ]
     },
     "metadata": {
      "needs_background": "light"
     },
     "output_type": "display_data"
    }
   ],
   "source": [
    "_=biased_df.plot.bar() \n",
    "_=plt.title('Biased Die Simulation')\n",
    "_=plt.xlabel('options')\n",
    "_=plt.ylabel('Frequency')\n",
    "_=plt.xticks([])\n",
    "plt.savefig('Biased Die')"
   ]
  },
  {
   "cell_type": "markdown",
   "id": "2f7511eb",
   "metadata": {},
   "source": [
    "## Mean of Biased and UnBiased Die"
   ]
  },
  {
   "cell_type": "code",
   "execution_count": 369,
   "id": "820b8321",
   "metadata": {},
   "outputs": [
    {
     "data": {
      "text/html": [
       "<div>\n",
       "<style scoped>\n",
       "    .dataframe tbody tr th:only-of-type {\n",
       "        vertical-align: middle;\n",
       "    }\n",
       "\n",
       "    .dataframe tbody tr th {\n",
       "        vertical-align: top;\n",
       "    }\n",
       "\n",
       "    .dataframe thead th {\n",
       "        text-align: right;\n",
       "    }\n",
       "</style>\n",
       "<table border=\"1\" class=\"dataframe\">\n",
       "  <thead>\n",
       "    <tr style=\"text-align: right;\">\n",
       "      <th></th>\n",
       "      <th>Fair Die Mean</th>\n",
       "      <th>Biased Die Mean</th>\n",
       "    </tr>\n",
       "  </thead>\n",
       "  <tbody>\n",
       "    <tr>\n",
       "      <th>0</th>\n",
       "      <td>3.42</td>\n",
       "      <td>3.85</td>\n",
       "    </tr>\n",
       "  </tbody>\n",
       "</table>\n",
       "</div>"
      ],
      "text/plain": [
       "   Fair Die Mean  Biased Die Mean\n",
       "0           3.42             3.85"
      ]
     },
     "execution_count": 369,
     "metadata": {},
     "output_type": "execute_result"
    }
   ],
   "source": [
    "#biased = biased_die_simuations(trial_count)\n",
    "#fair = fair_die_simulation(trial_count)\n",
    "\n",
    "unbiased_mean_list = sum(fair_die)/trial_count\n",
    "\n",
    "biased_mean_list = sum(biased_die)/trial_count \n",
    "\n",
    "Mean_df = pd.DataFrame([{'Fair Die Mean':unbiased_mean_list,'Biased Die Mean':biased_mean_list}])\n",
    "Mean_df"
   ]
  },
  {
   "cell_type": "code",
   "execution_count": 370,
   "id": "5bb897fa",
   "metadata": {},
   "outputs": [
    {
     "data": {
      "text/plain": [
       "Text(0.5, 1.0, 'Mean of Biased and UnBiased Simulation')"
      ]
     },
     "execution_count": 370,
     "metadata": {},
     "output_type": "execute_result"
    },
    {
     "data": {
      "image/png": "[encoded data removed]",
      "text/plain": [
       "<Figure size 432x288 with 2 Axes>"
      ]
     },
     "metadata": {
      "needs_background": "light"
     },
     "output_type": "display_data"
    },
    {
     "data": {
      "image/png": "[encoded data removed]",
      "text/plain": [
       "<Figure size 432x288 with 1 Axes>"
      ]
     },
     "metadata": {
      "needs_background": "light"
     },
     "output_type": "display_data"
    }
   ],
   "source": [
    "x1=[1,2,3,4,5,6]\n",
    "y1=[a,b,c,d,e,f]\n",
    "y2=[g,h,i,j,k,l]\n",
    "\n",
    "plt.subplot(2, 2, 1)\n",
    "plt.bar(x1,y1, color='navy') \n",
    "plt.title('Unbiased Die Simulation')\n",
    "plt.xlabel('options')\n",
    "plt.ylabel('Frequency')\n",
    "\n",
    "\n",
    "plt.subplot(2, 2, 2)\n",
    "plt.bar(x1,y2, color='Red')\n",
    "plt.title('Biased Die Simulation')\n",
    "plt.xlabel('options')\n",
    "plt.ylabel('Frequency')\n",
    "\n",
    "Mean_df.plot.hist()\n",
    "plt.title('Mean of Biased and UnBiased Simulation')\n",
    "\n"
   ]
  }
 ],
 "metadata": {
  "kernelspec": {
   "display_name": "Python 3 (ipykernel)",
   "language": "python",
   "name": "python3"
  },
  "language_info": {
   "codemirror_mode": {
    "name": "ipython",
    "version": 3
   },
   "file_extension": ".py",
   "mimetype": "text/x-python",
   "name": "python",
   "nbconvert_exporter": "python",
   "pygments_lexer": "ipython3",
   "version": "3.9.7"
  },
  "toc": {
   "base_numbering": 1,
   "nav_menu": {},
   "number_sections": true,
   "sideBar": true,
   "skip_h1_title": false,
   "title_cell": "Table of Contents",
   "title_sidebar": "Contents",
   "toc_cell": false,
   "toc_position": {},
   "toc_section_display": true,
   "toc_window_display": false
  }
 },
 "nbformat": 4,
 "nbformat_minor": 5
}
