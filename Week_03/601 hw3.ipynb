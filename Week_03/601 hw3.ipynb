{
 "cells": [
  {
   "cell_type": "markdown",
   "metadata": {},
   "source": [
    "# Homework 3"
   ]
  },
  {
   "cell_type": "code",
   "execution_count": 538,
   "metadata": {},
   "outputs": [],
   "source": [
    "## dont touch this cell and assertions after the questions\n",
    "score = {}\n",
    "\n",
    "equality_check = lambda a, b: len(a) == len(b) and all([ x==y for x,y in zip(a,b)])\n",
    "def assertion(question, result, expected):\n",
    "    same = False\n",
    "    try:\n",
    "        if type(result) in (int, str, bool, type(None)):\n",
    "            same = result == expected\n",
    "        else:\n",
    "            same = equality_check(result, expected)\n",
    "    except:\n",
    "        pass\n",
    "    \n",
    "    if question != None and same:\n",
    "        score[question] = True\n",
    "        \n",
    "    print('correct' if same else 'incorrect')"
   ]
  },
  {
   "cell_type": "markdown",
   "metadata": {},
   "source": [
    "## Tuples"
   ]
  },
  {
   "cell_type": "code",
   "execution_count": 539,
   "metadata": {},
   "outputs": [
    {
     "name": "stdout",
     "output_type": "stream",
     "text": [
      "1\n",
      "2\n"
     ]
    }
   ],
   "source": [
    "# example - not hw\n",
    "def get_dummy_tupple():\n",
    "    \"\"\"\n",
    "    Returns (1,2)\n",
    "    \"\"\"\n",
    "    return (1,2)\n",
    "\n",
    "x, y = get_dummy_tupple()\n",
    "print(x)\n",
    "print(y)"
   ]
  },
  {
   "cell_type": "code",
   "execution_count": 540,
   "metadata": {},
   "outputs": [],
   "source": [
    "state_names = [\"Alaska\", \"Alabama\", \"Arkansas\", \"American Samoa\", \"Arizona\", \"California\", \"Colorado\", \"Connecticut\", \"District \", \"of Columbia\", \"Delaware\", \"Florida\", \"Georgia\", \"Guam\", \"Hawaii\", \"Iowa\", \"Idaho\", \"Illinois\", \"Indiana\", \"Kansas\", \"Kentucky\", \"Louisiana\", \"Massachusetts\", \"Maryland\", \"Maine\", \"Michigan\", \"Minnesota\", \"Missouri\", \"Mississippi\", \"Montana\", \"North Carolina\", \"North Dakota\", \"Nebraska\", \"New Hampshire\", \"New Jersey\", \"New Mexico\", \"Nevada\", \"New York\", \"Ohio\", \"Oklahoma\", \"Oregon\", \"Pennsylvania\", \"Puerto Rico\", \"Rhode Island\", \"South Carolina\", \"South Dakota\", \"Tennessee\", \"Texas\", \"Utah\", \"Virginia\", \"Virgin Islands\", \"Vermont\", \"Washington\", \"Wisconsin\", \"West Virginia\", \"Wyoming\"]\n",
    "\n",
    "us_state_code = {\n",
    "    'Alabama': 'AL',\n",
    "    'Alaska': 'AK',\n",
    "    'American Samoa': 'AS',\n",
    "    'Arizona': 'AZ',\n",
    "    'Arkansas': 'AR',\n",
    "    'California': 'CA',\n",
    "    'Colorado': 'CO',\n",
    "    'Connecticut': 'CT',\n",
    "    'Delaware': 'DE',\n",
    "    'District of Columbia': 'DC',\n",
    "    'Florida': 'FL',\n",
    "    'Georgia': 'GA',\n",
    "    'Guam': 'GU',\n",
    "    'Hawaii': 'HI',\n",
    "    'Idaho': 'ID',\n",
    "    'Illinois': 'IL',\n",
    "    'Indiana': 'IN',\n",
    "    'Iowa': 'IA',\n",
    "    'Kansas': 'KS',\n",
    "    'Kentucky': 'KY',\n",
    "    'Louisiana': 'LA',\n",
    "    'Maine': 'ME',\n",
    "    'Maryland': 'MD',\n",
    "    'Massachusetts': 'MA',\n",
    "    'Michigan': 'MI',\n",
    "    'Minnesota': 'MN',\n",
    "    'Mississippi': 'MS',\n",
    "    'Missouri': 'MO',\n",
    "    'Montana': 'MT',\n",
    "    'Nebraska': 'NE',\n",
    "    'Nevada': 'NV',\n",
    "    'New Hampshire': 'NH',\n",
    "    'New Jersey': 'NJ',\n",
    "    'New Mexico': 'NM',\n",
    "    'New York': 'NY',\n",
    "    'North Carolina': 'NC',\n",
    "    'North Dakota': 'ND',\n",
    "    'Northern Mariana Islands':'MP',\n",
    "    'Ohio': 'OH',\n",
    "    'Oklahoma': 'OK',\n",
    "    'Oregon': 'OR',\n",
    "    'Pennsylvania': 'PA',\n",
    "    'Puerto Rico': 'PR',\n",
    "    'Rhode Island': 'RI',\n",
    "    'South Carolina': 'SC',\n",
    "    'South Dakota': 'SD',\n",
    "    'Tennessee': 'TN',\n",
    "    'Texas': 'TX',\n",
    "    'Utah': 'UT',\n",
    "    'Vermont': 'VT',\n",
    "    'Virgin Islands': 'VI',\n",
    "    'Virginia': 'VA',\n",
    "    'Washington': 'WA',\n",
    "    'West Virginia': 'WV',\n",
    "    'Wisconsin': 'WI',\n",
    "    'Wyoming': 'WY'\n",
    "}\n"
   ]
  },
  {
   "cell_type": "code",
   "execution_count": null,
   "metadata": {},
   "outputs": [],
   "source": []
  },
  {
   "cell_type": "code",
   "execution_count": 541,
   "metadata": {},
   "outputs": [],
   "source": [
    "# hw 1\n",
    "def get_state_with_code(state_code):\n",
    "    \"\"\"\n",
    "    returns state name and code as a tupple (code should NOT be longer than 5 line)\n",
    "    if input \"MD\" return \"Maryland\", \"MD\"\n",
    "    \"\"\"\n",
    "    rev_us_state_code = {a: b for b, a in us_state_code.items()}\n",
    "    l=rev_us_state_code[state_code]\n",
    "    return(l,state_code)"
   ]
  },
  {
   "cell_type": "code",
   "execution_count": 542,
   "metadata": {},
   "outputs": [
    {
     "name": "stdout",
     "output_type": "stream",
     "text": [
      "correct\n",
      "correct\n"
     ]
    }
   ],
   "source": [
    "# don't change\n",
    "assertion('1a', get_state_with_code('CA'), ('California', 'CA'))\n",
    "assertion('1b', get_state_with_code('MD'), ('Maryland', 'MD'))"
   ]
  },
  {
   "cell_type": "code",
   "execution_count": 543,
   "metadata": {},
   "outputs": [],
   "source": [
    "\n",
    "# hw 2\n",
    "import random\n",
    "def get_random_calculation_values():\n",
    "    \"\"\"\n",
    "    returns 2 random values and a random operator (+, -)\n",
    "    eg:\n",
    "    (10, 20, '+')\n",
    "    \"\"\"\n",
    "    a=random.randint(0,100)\n",
    "    b=random.randint(0,100)\n",
    "    c=random.choice([\"+\" , '-' , \"/\" , \"*\"])\n",
    "    return (a ,b ,c)\n",
    "\n",
    "# hw 3\n",
    "def get_correct_answer(number1, number2, operation):\n",
    "    \"\"\"\n",
    "    calculates the value for the operation\n",
    "    eg: \n",
    "    10, 5, '+' returns 15\n",
    "    \"\"\"\n",
    "    if operation == \"+\":\n",
    "        ca=number1 + number2\n",
    "    elif operation == \"-\":\n",
    "        ca=number1 - number2\n",
    "    elif operation == \"/\":\n",
    "        ca=number1 / number2\n",
    "    else:\n",
    "        ca=number1 * number2\n",
    "\n",
    "    return (ca)"
   ]
  },
  {
   "cell_type": "code",
   "execution_count": 544,
   "metadata": {},
   "outputs": [
    {
     "name": "stdout",
     "output_type": "stream",
     "text": [
      "90 + 90 = ? 180\n",
      "correct\n"
     ]
    }
   ],
   "source": [
    "# fix: get_correct_answer and run this\n",
    "# Homework 1 - just run - no need to change anything here\n",
    "def game():\n",
    "    number1, number2, operator = get_random_calculation_values()\n",
    "    correct_answer = get_correct_answer(number1, number2, operator)\n",
    "\n",
    "    while(True):\n",
    "        question = f'{number1} {operator} {number2} = ? '\n",
    "        answer = input(question)\n",
    "        if int(answer) == correct_answer:\n",
    "            print('correct')\n",
    "            break\n",
    "        else:\n",
    "            print('incorrect')\n",
    "    \n",
    "game()"
   ]
  },
  {
   "cell_type": "markdown",
   "metadata": {},
   "source": [
    "## List"
   ]
  },
  {
   "cell_type": "code",
   "execution_count": 545,
   "metadata": {},
   "outputs": [],
   "source": [
    "# hw 4\n",
    "def array_length(arr):\n",
    "    \"\"\"\n",
    "    This function returns the lenght of array\n",
    "    \"\"\"\n",
    "    return (len(arr))"
   ]
  },
  {
   "cell_type": "code",
   "execution_count": 546,
   "metadata": {},
   "outputs": [
    {
     "name": "stdout",
     "output_type": "stream",
     "text": [
      "correct\n",
      "correct\n",
      "correct\n",
      "correct\n"
     ]
    }
   ],
   "source": [
    "# don't change\n",
    "assertion('4a', array_length([]), 0)\n",
    "assertion('4b', array_length([1]),1)\n",
    "assertion('4c', array_length([1,2]), 2)\n",
    "assertion('4d', array_length([1,2,3]), 3)"
   ]
  },
  {
   "cell_type": "code",
   "execution_count": 547,
   "metadata": {},
   "outputs": [],
   "source": [
    "# hw 5\n",
    "def get_odd_numbers(arr):\n",
    "    \"\"\"\n",
    "    This array returns the odd numbers from the arr\n",
    "    eg:\n",
    "    [1,2,3,4,5] returns [1,3,5]\n",
    "    \"\"\"\n",
    "    d=[]\n",
    "    for i in range(len(arr)):\n",
    "        if(arr[i]%2!=0):\n",
    "            d.append(arr[i])\n",
    "    return (d)"
   ]
  },
  {
   "cell_type": "code",
   "execution_count": 548,
   "metadata": {},
   "outputs": [
    {
     "name": "stdout",
     "output_type": "stream",
     "text": [
      "correct\n",
      "correct\n",
      "correct\n"
     ]
    }
   ],
   "source": [
    "# don't change\n",
    "assertion('5a', get_odd_numbers([11,2,5,5,3,1]), [11,5,5,3,1])\n",
    "assertion('5b', get_odd_numbers([8,1,2,5,5,3,1]), [1,5,5,3,1])\n",
    "assertion('5c', get_odd_numbers([3,2,1,0,9,9]), [3,1,9,9])"
   ]
  },
  {
   "cell_type": "code",
   "execution_count": 549,
   "metadata": {},
   "outputs": [],
   "source": [
    "# hw 6\n",
    "import numpy as np\n",
    "def check_if_two_arrays_equal(arr1, arr2):\n",
    "    \"\"\"\n",
    "    Checks if values passed are the same in both arrays\n",
    "    eg: [1,2,3] == [1,2,3] \n",
    "        [1,2,3] != [3,1,2]\n",
    "    \"\"\"\n",
    "    return (np.array_equal(arr1,arr2))"
   ]
  },
  {
   "cell_type": "code",
   "execution_count": 550,
   "metadata": {},
   "outputs": [
    {
     "name": "stdout",
     "output_type": "stream",
     "text": [
      "correct\n",
      "correct\n",
      "correct\n",
      "correct\n",
      "correct\n"
     ]
    }
   ],
   "source": [
    "# don't change\n",
    "assertion('6a', check_if_two_arrays_equal([1,2,5,6], [1,2,5,6]), True)\n",
    "assertion('6b', check_if_two_arrays_equal([1,2,6], [1,2,5]), False)\n",
    "assertion('6c', check_if_two_arrays_equal([1,2,5,9,0,0], [1,2,5,9,0,0]), True)\n",
    "assertion('6d', check_if_two_arrays_equal([], []), True)\n",
    "assertion('6e', check_if_two_arrays_equal([1], []), False)"
   ]
  },
  {
   "cell_type": "code",
   "execution_count": 551,
   "metadata": {},
   "outputs": [],
   "source": [
    "# hw 7\n",
    "def reverse_array(arr):\n",
    "    \"\"\"\n",
    "    This function reverses the array\n",
    "    [1,2,3] returns [3,2,1]\n",
    "    \"\"\"\n",
    "    return (np.flip(arr))"
   ]
  },
  {
   "cell_type": "code",
   "execution_count": 552,
   "metadata": {},
   "outputs": [
    {
     "name": "stdout",
     "output_type": "stream",
     "text": [
      "correct\n",
      "correct\n",
      "correct\n"
     ]
    }
   ],
   "source": [
    "# don't change\n",
    "assertion('7a', reverse_array([1,2,3]), [3,2,1])\n",
    "assertion('7b', reverse_array(['a','b']), ['b','a'])\n",
    "assertion('7c', reverse_array(['a']), ['a'])"
   ]
  },
  {
   "cell_type": "code",
   "execution_count": 553,
   "metadata": {},
   "outputs": [],
   "source": [
    "# hw 8\n",
    "def get_states_starts_with(letter): \n",
    "    \"\"\"\n",
    "    returns states starts with the passed in letter\n",
    "    'a' or 'A' => ['Alaska', 'Alabama', 'Arkansas', 'American Samoa', 'Arizona']\n",
    "    \"\"\"\n",
    "    d=[]\n",
    "    letter = letter.upper()\n",
    "    for i in state_names:\n",
    "        if i[0]==letter:\n",
    "            d.append(i)\n",
    "    return (d)"
   ]
  },
  {
   "cell_type": "code",
   "execution_count": 554,
   "metadata": {},
   "outputs": [
    {
     "name": "stdout",
     "output_type": "stream",
     "text": [
      "correct\n",
      "correct\n"
     ]
    }
   ],
   "source": [
    "# don't change\n",
    "assertion('8a', get_states_starts_with('a'), ['Alaska', 'Alabama', 'Arkansas', 'American Samoa', 'Arizona'])\n",
    "assertion('8b', get_states_starts_with('m'), ['Massachusetts', 'Maryland', 'Maine', 'Michigan', 'Minnesota', 'Missouri', 'Mississippi','Montana'])"
   ]
  },
  {
   "cell_type": "code",
   "execution_count": 555,
   "metadata": {},
   "outputs": [],
   "source": [
    "# hw 9\n",
    "def get_state_code_for(state):\n",
    "    \"\"\"\n",
    "    return state code\n",
    "    'Maryland' => 'MD'\n",
    "    'Wisconsin' => 'WI'\n",
    "    'LalaLala' => None\n",
    "    \"\"\"\n",
    "    if state in us_state_code:\n",
    "        h=us_state_code[state]\n",
    "    else:\n",
    "        h= None\n",
    "    return(h)\n",
    "\n",
    "get_state_code_for(\"Hogwarts\")"
   ]
  },
  {
   "cell_type": "code",
   "execution_count": 556,
   "metadata": {},
   "outputs": [
    {
     "name": "stdout",
     "output_type": "stream",
     "text": [
      "correct\n",
      "correct\n",
      "correct\n"
     ]
    }
   ],
   "source": [
    "# don't change\n",
    "assertion('9a', get_state_code_for('Maryland'), \"MD\")\n",
    "assertion('9b', get_state_code_for('Hogwarts'), None)\n",
    "assertion('9c', get_state_code_for('Alaska'), 'AK')"
   ]
  },
  {
   "cell_type": "markdown",
   "metadata": {},
   "source": [
    "# Functions\n",
    "\n",
    "## Lambda"
   ]
  },
  {
   "cell_type": "code",
   "execution_count": 557,
   "metadata": {},
   "outputs": [
    {
     "data": {
      "text/plain": [
       "False"
      ]
     },
     "execution_count": 557,
     "metadata": {},
     "output_type": "execute_result"
    }
   ],
   "source": [
    "# Note: you can use if-else in a single line\n",
    "import random\n",
    "\n",
    "True if random.randint(0,1) == 0 else False"
   ]
  },
  {
   "cell_type": "code",
   "execution_count": 558,
   "metadata": {},
   "outputs": [
    {
     "data": {
      "text/plain": [
       "'negative'"
      ]
     },
     "execution_count": 558,
     "metadata": {},
     "output_type": "execute_result"
    }
   ],
   "source": [
    "'positive' if random.randint(-10, 10) > 0 else 'negative' "
   ]
  },
  {
   "cell_type": "code",
   "execution_count": 559,
   "metadata": {},
   "outputs": [
    {
     "name": "stdout",
     "output_type": "stream",
     "text": [
      "False\n",
      "True\n"
     ]
    }
   ],
   "source": [
    "# example # it shoud not have return statement\n",
    "check_if_negative = lambda x: True if x < 0 else False\n",
    "\n",
    "print(check_if_negative(10))\n",
    "print(check_if_negative(-10))"
   ]
  },
  {
   "cell_type": "code",
   "execution_count": 560,
   "metadata": {},
   "outputs": [
    {
     "data": {
      "text/plain": [
       "6"
      ]
     },
     "execution_count": 560,
     "metadata": {},
     "output_type": "execute_result"
    }
   ],
   "source": [
    "# hw 10 - write a lambda function to double the value: \n",
    "doubler = lambda x: x * 2\n",
    "\n",
    "doubler(3)"
   ]
  },
  {
   "cell_type": "code",
   "execution_count": 561,
   "metadata": {},
   "outputs": [
    {
     "name": "stdout",
     "output_type": "stream",
     "text": [
      "correct\n",
      "correct\n"
     ]
    }
   ],
   "source": [
    "# don't change\n",
    "assertion('10a', doubler(3), 6)\n",
    "assertion('10b', doubler(100), 200)"
   ]
  },
  {
   "cell_type": "code",
   "execution_count": 562,
   "metadata": {},
   "outputs": [
    {
     "data": {
      "text/plain": [
       "True"
      ]
     },
     "execution_count": 562,
     "metadata": {},
     "output_type": "execute_result"
    }
   ],
   "source": [
    "# hw 11 - write a lambda function that return True if text has a word\n",
    "has_word = lambda text, word: True if word.lower() in text else False \n",
    "\n",
    "has_word('narava pranay manikata', 'narava')"
   ]
  },
  {
   "cell_type": "code",
   "execution_count": 563,
   "metadata": {},
   "outputs": [
    {
     "name": "stdout",
     "output_type": "stream",
     "text": [
      "correct\n",
      "correct\n",
      "correct\n"
     ]
    }
   ],
   "source": [
    "# don't change\n",
    "assertion('11a', has_word('you will make so much money $$$', '$$'), True)\n",
    "assertion('11b', has_word('spams may have certain words', 'SPAM'), True)\n",
    "assertion('11c', has_word('he is a senior citizen', 'old'), False)"
   ]
  },
  {
   "cell_type": "code",
   "execution_count": 564,
   "metadata": {},
   "outputs": [],
   "source": [
    "# hw 12\n",
    "from datetime import date\n",
    "\n",
    "def get_age(birth_year):\n",
    "    \"\"\"\n",
    "    returns the age based on current year (don't hardcode the current year)\n",
    "    \"\"\"\n",
    "    today = date.today()\n",
    "    age = today.year - birth_year - 1\n",
    "    return (age)"
   ]
  },
  {
   "cell_type": "code",
   "execution_count": 565,
   "metadata": {},
   "outputs": [
    {
     "name": "stdout",
     "output_type": "stream",
     "text": [
      "correct\n",
      "correct\n",
      "correct\n"
     ]
    }
   ],
   "source": [
    "# don't change\n",
    "assertion('12a', get_age(1950), 71)\n",
    "assertion('12b', get_age(1990), 31)\n",
    "assertion('12c', get_age(2020), 1)"
   ]
  },
  {
   "cell_type": "code",
   "execution_count": 566,
   "metadata": {},
   "outputs": [
    {
     "data": {
      "text/plain": [
       "True"
      ]
     },
     "execution_count": 566,
     "metadata": {},
     "output_type": "execute_result"
    }
   ],
   "source": [
    "# hw 13\n",
    "import re\n",
    "\n",
    "def has_ssn(text):\n",
    "    \"\"\"\n",
    "    check if the text contains SSN (social security number) XXX-XX-XXXX\n",
    "    (use regular expressions)\n",
    "    \"\"\"\n",
    "    p = re.compile('^.*?(\\d{3}-\\d{2}-\\d{4}).*$')\n",
    "    r = bool (re.match(p,text))\n",
    "    return (r)\n",
    "\n",
    "has_ssn(\"my ssn is 123-12-1234\")"
   ]
  },
  {
   "cell_type": "code",
   "execution_count": 567,
   "metadata": {},
   "outputs": [
    {
     "name": "stdout",
     "output_type": "stream",
     "text": [
      "correct\n",
      "correct\n",
      "correct\n",
      "correct\n"
     ]
    }
   ],
   "source": [
    "# don't change\n",
    "assertion('13a', has_ssn('my ssn is 123-12-1234.'), True)\n",
    "assertion('13b', has_ssn('my phone number is 443-312-1234.'), False)\n",
    "assertion('13c', has_ssn('143-12-1234 is for this patient'), True)\n",
    "assertion('13d', has_ssn('the id is 143-12-123.'), False)\n"
   ]
  },
  {
   "cell_type": "code",
   "execution_count": 568,
   "metadata": {},
   "outputs": [],
   "source": [
    "# don't change this block. \n",
    "def select_states(selector_func):\n",
    "    \"\"\"\n",
    "    selects states based on the function\n",
    "        selector_func: takes a state name and return true or false\n",
    "        \n",
    "    returns array\n",
    "    \"\"\"\n",
    "    # return [state for state in state_names if selector_func(state)] # this will give the same output\n",
    "    \n",
    "    result = []\n",
    "    for state in state_names:\n",
    "        if selector_func(state):\n",
    "            result.append(state)\n",
    "    \n",
    "    return result"
   ]
  },
  {
   "cell_type": "code",
   "execution_count": 569,
   "metadata": {},
   "outputs": [
    {
     "data": {
      "text/plain": [
       "['Idaho', 'Maine', 'Texas']"
      ]
     },
     "execution_count": 569,
     "metadata": {},
     "output_type": "execute_result"
    }
   ],
   "source": [
    "# example: takes a string and returns a boolean\n",
    "def five_letter(word):\n",
    "    if len(word) == 5:\n",
    "        return True\n",
    "    else:\n",
    "        return False\n",
    "    \n",
    "select_states(five_letter)"
   ]
  },
  {
   "cell_type": "code",
   "execution_count": 570,
   "metadata": {},
   "outputs": [
    {
     "data": {
      "text/plain": [
       "['American Samoa',\n",
       " 'District ',\n",
       " 'of Columbia',\n",
       " 'North Carolina',\n",
       " 'North Dakota',\n",
       " 'New Hampshire',\n",
       " 'New Jersey',\n",
       " 'New Mexico',\n",
       " 'New York',\n",
       " 'Puerto Rico',\n",
       " 'Rhode Island',\n",
       " 'South Carolina',\n",
       " 'South Dakota',\n",
       " 'Virgin Islands',\n",
       " 'West Virginia']"
      ]
     },
     "execution_count": 570,
     "metadata": {},
     "output_type": "execute_result"
    }
   ],
   "source": [
    "# hw 14\n",
    "# write a function that checks if state name is more than one word (should return only True/False)\n",
    "def is_two_words(word):\n",
    "    tw = \" \" in word\n",
    "    return (tw)\n",
    "select_states(is_two_words)"
   ]
  },
  {
   "cell_type": "code",
   "execution_count": 571,
   "metadata": {},
   "outputs": [
    {
     "name": "stdout",
     "output_type": "stream",
     "text": [
      "correct\n"
     ]
    }
   ],
   "source": [
    " assertion('14', select_states(is_two_words), ['American Samoa',\n",
    " 'District ',\n",
    " 'of Columbia',\n",
    " 'North Carolina',\n",
    " 'North Dakota',\n",
    " 'New Hampshire',\n",
    " 'New Jersey',\n",
    " 'New Mexico',\n",
    " 'New York',\n",
    " 'Puerto Rico',\n",
    " 'Rhode Island',\n",
    " 'South Carolina',\n",
    " 'South Dakota',\n",
    " 'Virgin Islands',\n",
    " 'West Virginia'])"
   ]
  },
  {
   "cell_type": "code",
   "execution_count": 572,
   "metadata": {},
   "outputs": [
    {
     "data": {
      "text/plain": [
       "['California',\n",
       " 'Hawaii',\n",
       " 'Kansas',\n",
       " 'Massachusetts',\n",
       " 'Maryland',\n",
       " 'Maine',\n",
       " 'Washington']"
      ]
     },
     "execution_count": 572,
     "metadata": {},
     "output_type": "execute_result"
    }
   ],
   "source": [
    "# hw 15\n",
    "# write a function that checks if the second letter is 'a' and returns True/False\n",
    "# pass that function to select_states function\n",
    "\n",
    "def is_second_letter_a(word):\n",
    "        if word[1]==\"a\":\n",
    "            return True\n",
    "        else:\n",
    "            return False\n",
    "\n",
    "\n",
    "select_states(is_second_letter_a)"
   ]
  },
  {
   "cell_type": "code",
   "execution_count": 573,
   "metadata": {},
   "outputs": [
    {
     "name": "stdout",
     "output_type": "stream",
     "text": [
      "correct\n"
     ]
    }
   ],
   "source": [
    " assertion('15a', select_states(is_second_letter_a), ['California',\n",
    " 'Hawaii',\n",
    " 'Kansas',\n",
    " 'Massachusetts',\n",
    " 'Maryland',\n",
    " 'Maine',\n",
    " 'Washington'])"
   ]
  },
  {
   "cell_type": "code",
   "execution_count": 574,
   "metadata": {},
   "outputs": [
    {
     "data": {
      "text/plain": [
       "['Kansas', 'Kentucky', 'Louisiana']"
      ]
     },
     "execution_count": 574,
     "metadata": {},
     "output_type": "execute_result"
    }
   ],
   "source": [
    "# hw 16\n",
    "# write a function that checks if the word is alfabetically in between K-M and returns True/False\n",
    "# pass that function to select_states function\n",
    "\n",
    "def in_between_K_M(word):\n",
    "    if word[0] == \"K\":\n",
    "        return True\n",
    "    elif word[0] == \"L\":\n",
    "        return True\n",
    "    else:\n",
    "        return False\n",
    "\n",
    "select_states(in_between_K_M)"
   ]
  },
  {
   "cell_type": "code",
   "execution_count": 575,
   "metadata": {},
   "outputs": [
    {
     "name": "stdout",
     "output_type": "stream",
     "text": [
      "correct\n",
      "correct\n"
     ]
    }
   ],
   "source": [
    " assertion('16a', select_states(is_second_letter_a), ['California',\n",
    " 'Hawaii',\n",
    " 'Kansas',\n",
    " 'Massachusetts',\n",
    " 'Maryland',\n",
    " 'Maine',\n",
    " 'Washington'])\n",
    "\n",
    "assertion('16b', select_states(in_between_K_M), ['Kansas', 'Kentucky', 'Louisiana'])"
   ]
  },
  {
   "cell_type": "code",
   "execution_count": 576,
   "metadata": {},
   "outputs": [
    {
     "data": {
      "text/plain": [
       "['Alaska',\n",
       " 'Alabama',\n",
       " 'American Samoa',\n",
       " 'Arizona',\n",
       " 'California',\n",
       " 'of Columbia',\n",
       " 'Florida',\n",
       " 'Georgia',\n",
       " 'Iowa',\n",
       " 'Indiana',\n",
       " 'Louisiana',\n",
       " 'Minnesota',\n",
       " 'Montana',\n",
       " 'North Carolina',\n",
       " 'North Dakota',\n",
       " 'Nebraska',\n",
       " 'Nevada',\n",
       " 'Oklahoma',\n",
       " 'Pennsylvania',\n",
       " 'South Carolina',\n",
       " 'South Dakota',\n",
       " 'Virginia',\n",
       " 'West Virginia']"
      ]
     },
     "execution_count": 576,
     "metadata": {},
     "output_type": "execute_result"
    }
   ],
   "source": [
    "# write an interesting function and pass it into select_states function (should return only True/False)\n",
    "def interesting_func(state):\n",
    "    if state[-1] == \"a\":\n",
    "        return True\n",
    "    else:\n",
    "        return False\n",
    "\n",
    "select_states(interesting_func)"
   ]
  },
  {
   "cell_type": "code",
   "execution_count": 577,
   "metadata": {},
   "outputs": [
    {
     "name": "stdout",
     "output_type": "stream",
     "text": [
      "correct\n"
     ]
    }
   ],
   "source": [
    "# hw 17 - write an assertion (replace ?? with the expected result)\n",
    "\n",
    "assertion('17a', select_states(interesting_func),['Alaska',\n",
    " 'Alabama',\n",
    " 'American Samoa',\n",
    " 'Arizona',\n",
    " 'California',\n",
    " 'of Columbia',\n",
    " 'Florida',\n",
    " 'Georgia',\n",
    " 'Iowa',\n",
    " 'Indiana',\n",
    " 'Louisiana',\n",
    " 'Minnesota',\n",
    " 'Montana',\n",
    " 'North Carolina',\n",
    " 'North Dakota',\n",
    " 'Nebraska',\n",
    " 'Nevada',\n",
    " 'Oklahoma',\n",
    " 'Pennsylvania',\n",
    " 'South Carolina',\n",
    " 'South Dakota',\n",
    " 'Virginia',\n",
    " 'West Virginia'])"
   ]
  },
  {
   "cell_type": "markdown",
   "metadata": {},
   "source": [
    "# Score "
   ]
  },
  {
   "cell_type": "code",
   "execution_count": 578,
   "metadata": {},
   "outputs": [
    {
     "data": {
      "text/plain": [
       "'39/36'"
      ]
     },
     "execution_count": 578,
     "metadata": {},
     "output_type": "execute_result"
    }
   ],
   "source": [
    "f'{sum(score.values())}/36'"
   ]
  },
  {
   "cell_type": "code",
   "execution_count": null,
   "metadata": {},
   "outputs": [],
   "source": []
  }
 ],
 "metadata": {
  "kernelspec": {
   "display_name": "Python 3 (ipykernel)",
   "language": "python",
   "name": "python3"
  },
  "language_info": {
   "codemirror_mode": {
    "name": "ipython",
    "version": 3
   },
   "file_extension": ".py",
   "mimetype": "text/x-python",
   "name": "python",
   "nbconvert_exporter": "python",
   "pygments_lexer": "ipython3",
   "version": "3.9.7"
  },
  "toc": {
   "base_numbering": 1,
   "nav_menu": {},
   "number_sections": true,
   "sideBar": true,
   "skip_h1_title": false,
   "title_cell": "Table of Contents",
   "title_sidebar": "Contents",
   "toc_cell": false,
   "toc_position": {},
   "toc_section_display": true,
   "toc_window_display": false
  },
  "varInspector": {
   "cols": {
    "lenName": 16,
    "lenType": 16,
    "lenVar": 40
   },
   "kernels_config": {
    "python": {
     "delete_cmd_postfix": "",
     "delete_cmd_prefix": "del ",
     "library": "var_list.py",
     "varRefreshCmd": "print(var_dic_list())"
    },
    "r": {
     "delete_cmd_postfix": ") ",
     "delete_cmd_prefix": "rm(",
     "library": "var_list.r",
     "varRefreshCmd": "cat(var_dic_list()) "
    }
   },
   "types_to_exclude": [
    "module",
    "function",
    "builtin_function_or_method",
    "instance",
    "_Feature"
   ],
   "window_display": false
  }
 },
 "nbformat": 4,
 "nbformat_minor": 2
}
