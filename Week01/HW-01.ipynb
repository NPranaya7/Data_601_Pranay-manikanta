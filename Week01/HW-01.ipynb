{
 "cells": [
  {
   "cell_type": "markdown",
   "metadata": {
    "id": "hl3pVnDDs6Se"
   },
   "source": [
    "# Rules\n",
    "\n",
    "- We will grade only the answer cells, so make sure that you type your answer inside of the answer cell. \n",
    "\n",
    "- Make sure that your code is working when you restart the kernel. Notebooks are great tools for exploration but we should be very careful as we are writing codes. For more, please check: [Why notebooks suck](https://towardsdatascience.com/5-reasons-why-jupyter-notebooks-suck-4dc201e27086)\n",
    "\n",
    "- Make sure that your results are in the correct format. If we ask you to return a list, your answer should be in a list format. If the question asks you to return a scalar (float, int, etc.) then make sure that your answer is in the correct format.\n",
    "\n",
    "## Homework\n",
    "\n",
    "1. Correct the formatting of markdown cells\n",
    "    * Use appropriate headers\n",
    "1. Finish the coding sections."
   ]
  },
  {
   "cell_type": "markdown",
   "metadata": {
    "id": "Tur9zoV6qB4I"
   },
   "source": [
    "Question-1\n",
    "\n",
    "Write a Python function to return a **list** of all the numbers from 1 to n which are divisible by 5. `n` will be given as an argument to your function.\n"
   ]
  },
  {
   "cell_type": "code",
   "execution_count": 22,
   "metadata": {
    "id": "bBH79NeVs1m1"
   },
   "outputs": [
    {
     "name": "stdout",
     "output_type": "stream",
     "text": [
      "5\n",
      "10\n",
      "15\n",
      "20\n",
      "25\n",
      "30\n",
      "35\n",
      "40\n",
      "45\n",
      "50\n",
      "55\n",
      "60\n",
      "65\n",
      "70\n",
      "75\n",
      "80\n",
      "85\n",
      "90\n",
      "95\n",
      "100\n",
      "105\n",
      "110\n",
      "115\n",
      "120\n"
     ]
    }
   ],
   "source": [
    "# Your Answer Cell\n",
    "# you can edit the function below. \n",
    "# Don't change function name and parameter names.\n",
    "# you can define new variables (if needed) inside of the function.\n",
    "\n",
    "def get_numbers_divisible_by_five(given_number):\n",
    "    for i in range (1,given_number):\n",
    "        if i % 5 == 0:\n",
    "            print(i)\n",
    "    return\n",
    "\n",
    "get_numbers_divisible_by_five(121)"
   ]
  },
  {
   "cell_type": "markdown",
   "metadata": {
    "id": "9DpQ6X0io0If"
   },
   "source": [
    "Question-2\n",
    "\n",
    "Write a function that returns the sum of the parameters\n"
   ]
  },
  {
   "cell_type": "code",
   "execution_count": 23,
   "metadata": {
    "id": "rmYpunGwp-bq"
   },
   "outputs": [
    {
     "data": {
      "text/plain": [
       "8"
      ]
     },
     "execution_count": 23,
     "metadata": {},
     "output_type": "execute_result"
    }
   ],
   "source": [
    "# Your Answer Cell\n",
    "# you can edit the function below. \n",
    "# Don't change function name and parameter names.\n",
    "# you can define new variables inside of the function.\n",
    "\n",
    "def my_function(a, b):\n",
    "\n",
    "    return a + b\n",
    "\n",
    "\n",
    "## your answer above\n",
    "\n",
    "my_function(3, 5)"
   ]
  },
  {
   "cell_type": "markdown",
   "metadata": {
    "id": "inGr4AOovJhj"
   },
   "source": [
    "Question-3 (Shell & Magic Commands)\n"
   ]
  },
  {
   "cell_type": "markdown",
   "metadata": {
    "id": "54izIMcAwgud"
   },
   "source": [
    "Question-3-a\n",
    "\n",
    "Below print current working directory."
   ]
  },
  {
   "cell_type": "code",
   "execution_count": 1,
   "metadata": {
    "id": "0O27azQfvZjv"
   },
   "outputs": [
    {
     "data": {
      "text/plain": [
       "'/Users/sanjubiju/Downloads/Pranay manikanta/Data 601/homework'"
      ]
     },
     "execution_count": 1,
     "metadata": {},
     "output_type": "execute_result"
    }
   ],
   "source": [
    "## Answer Cell \n",
    "\n",
    "\n",
    "%pwd"
   ]
  },
  {
   "cell_type": "markdown",
   "metadata": {
    "id": "lDzXCiGnvbMO"
   },
   "source": [
    "Question-3-b\n",
    "\n",
    "Below list all the files and folders in the current working directory."
   ]
  },
  {
   "cell_type": "code",
   "execution_count": 2,
   "metadata": {
    "id": "SHnZDzFZwUeB"
   },
   "outputs": [
    {
     "name": "stdout",
     "output_type": "stream",
     "text": [
      "['my_script.py', '.DS_Store', 'HW-01.ipynb', '.ipynb_checkpoints']\n"
     ]
    }
   ],
   "source": [
    "## Answer Cell\n",
    "\n",
    "import os\n",
    "ff = os. listdir('.')\n",
    "print(ff)"
   ]
  },
  {
   "cell_type": "markdown",
   "metadata": {
    "id": "OZPKFtqX1Wev"
   },
   "source": [
    "Question-3-c\n",
    "\n",
    "Create 'my_script.py' that prints 'Your First Name-Your Last Name' in the same directory and run this scripy in the cell below."
   ]
  },
  {
   "cell_type": "code",
   "execution_count": 3,
   "metadata": {
    "id": "n7i7G_YE1qi0"
   },
   "outputs": [
    {
     "name": "stdout",
     "output_type": "stream",
     "text": [
      "Pranay Manikanta\n",
      "Narava\n"
     ]
    }
   ],
   "source": [
    "## Answer Cell\n",
    "\n",
    "%run 'my_script.py'"
   ]
  }
 ],
 "metadata": {
  "colab": {
   "collapsed_sections": [],
   "name": "HW-1.ipynb",
   "provenance": []
  },
  "interpreter": {
   "hash": "7e1998ff7f8aa20ada591c520b972326324e5ea05489af9e422744c7c09f6dad"
  },
  "kernelspec": {
   "display_name": "Python 3.10.0 64-bit",
   "name": "python3"
  },
  "language_info": {
   "codemirror_mode": {
    "name": "ipython",
    "version": 3
   },
   "file_extension": ".py",
   "mimetype": "text/x-python",
   "name": "python",
   "nbconvert_exporter": "python",
   "pygments_lexer": "ipython3",
   "version": "3.10.0"
  },
  "toc": {
   "base_numbering": 1,
   "nav_menu": {},
   "number_sections": false,
   "sideBar": true,
   "skip_h1_title": false,
   "title_cell": "Table of Contents",
   "title_sidebar": "Contents",
   "toc_cell": false,
   "toc_position": {},
   "toc_section_display": true,
   "toc_window_display": true
  }
 },
 "nbformat": 4,
 "nbformat_minor": 1
}
